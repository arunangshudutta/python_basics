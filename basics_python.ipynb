{
 "cells": [
  {
   "cell_type": "markdown",
   "metadata": {},
   "source": [
    "BASIC HELLO WORLD PROGRAM"
   ]
  },
  {
   "cell_type": "code",
   "execution_count": 2,
   "metadata": {},
   "outputs": [
    {
     "name": "stdout",
     "output_type": "stream",
     "text": [
      "\n",
      "\t\tHELLO   ' ' \n",
      "\t\t WORLD   o \n",
      "\n"
     ]
    }
   ],
   "source": [
    "print(\"\\n\\t\\tHELLO   ' ' \\n\\t\\t WORLD   o \\n\")"
   ]
  },
  {
   "cell_type": "markdown",
   "metadata": {},
   "source": [
    "DATA TYPES"
   ]
  },
  {
   "cell_type": "code",
   "execution_count": 6,
   "metadata": {},
   "outputs": [
    {
     "name": "stdout",
     "output_type": "stream",
     "text": [
      "21 90.998 True\n"
     ]
    }
   ],
   "source": [
    "my_int1 = 21\n",
    "my_float1 = 90.998\n",
    "my_bool1 = True\n",
    "\n",
    "print(my_int1,my_float1,my_bool1)"
   ]
  },
  {
   "cell_type": "markdown",
   "metadata": {},
   "source": [
    "MATH OPERATIONS"
   ]
  },
  {
   "cell_type": "code",
   "execution_count": 5,
   "metadata": {},
   "outputs": [
    {
     "name": "stdout",
     "output_type": "stream",
     "text": [
      "5  +  6  =  11\n",
      "5  -  6  =  -1\n",
      "5  *  6  =  30\n",
      "5  /  6  =  0.8333333333333334\n",
      "quotient of  6  /  5  =  1\n",
      "remainder of  6  /  5  =  1\n",
      "log of  6 is  1.791759469228055\n",
      "sguare root of  6 is  2.449489742783178 \n",
      "\n"
     ]
    }
   ],
   "source": [
    "from math import *\n",
    "i = 6\n",
    "j = 5\n",
    "\n",
    "p = j + i\n",
    "print(j,\" + \",i,\" = \",p)\n",
    "\n",
    "p = j-i\n",
    "print(j,\" - \",i,\" = \",p)\n",
    "\n",
    "p = j*i\n",
    "print(j,\" * \",i,\" = \",p)\n",
    "\n",
    "p = j/i\n",
    "print(j,\" / \",i,\" = \",p)\n",
    "\n",
    "p = i//j\n",
    "print(\"quotient of \",i,\" / \",j,\" = \",p)\n",
    "\n",
    "p = i%j\n",
    "print(\"remainder of \",i,\" / \",j,\" = \",p)\n",
    "\n",
    "p = log(i)\n",
    "print(\"log of \",i,\"is \",p)\n",
    "\n",
    "p = sqrt(i)\n",
    "print(\"sguare root of \",i,\"is \",p,\"\\n\")"
   ]
  },
  {
   "cell_type": "markdown",
   "metadata": {},
   "source": [
    "PRINTING OPERATION"
   ]
  },
  {
   "cell_type": "code",
   "execution_count": 21,
   "metadata": {},
   "outputs": [
    {
     "name": "stdout",
     "output_type": "stream",
     "text": [
      "my name is Arunangshu\n",
      "my age is 19\n",
      "my hight is 5.400000\n",
      "my roll is 56 and my semester is 3\n",
      "to print raw data 5.4 'Arunangshu'\n",
      " \t if we use\n",
      "         three double quotes            \n",
      "         then we are able\n",
      "         to write in multiple lines\n"
     ]
    }
   ],
   "source": [
    "my_int2 = 19 #intiger type\n",
    "my_float2 = 5.4 #float type\n",
    "my_name2 = 'Arunangshu' #variable holding strings\n",
    "my_roll2 = \"56\"\n",
    "my_sem2 = 3\n",
    "\n",
    "print(\"my name is\",my_name2)\n",
    "print(\"my age is %d\\nmy hight is %f\"%(my_int2,my_float2)) #%d and %f is used to diaplay int and float\n",
    "print(\"my roll is %s and my semester is %d\"%(my_roll2,my_sem2)) #%s is used to show string\n",
    "print(\"to print raw data %r %r\"%(my_float2,my_name2))#raw data can be printed using %r\n",
    "print(\"\"\" \\t if we use\n",
    "         three double quotes            \n",
    "         then we are able\n",
    "         to write in multiple lines\"\"\") # three quotes is used to print\n",
    "                                        # multiple lines\n",
    "         \n"
   ]
  },
  {
   "cell_type": "markdown",
   "metadata": {},
   "source": [
    "GATE OPERATIONS"
   ]
  },
  {
   "cell_type": "code",
   "execution_count": 9,
   "metadata": {},
   "outputs": [
    {
     "name": "stdout",
     "output_type": "stream",
     "text": [
      "\n",
      "p =  True\n",
      "q =  False\n",
      "and operation between p and q  False\n",
      "or operation between p and q  True\n",
      "not operation on p False\n"
     ]
    }
   ],
   "source": [
    "p = True\n",
    "q = False\n",
    "print(\"\\np = \",p)\n",
    "print(\"q = \",q)\n",
    "and_ = (p and q) \n",
    "or_ = (p or q)\n",
    "not_ = not p\n",
    "\n",
    "print(\"and operation between p and q \",and_)\n",
    "print(\"or operation between p and q \",or_)\n",
    "print(\"not operation on p\",not_)\n"
   ]
  },
  {
   "cell_type": "markdown",
   "metadata": {},
   "source": [
    "STRING OPERATION"
   ]
  },
  {
   "cell_type": "code",
   "execution_count": 22,
   "metadata": {},
   "outputs": [
    {
     "name": "stdout",
     "output_type": "stream",
     "text": [
      "string with a single quotes with \" in between\n",
      "string using a double quotes with ' in between\n",
      "siring using tripple quotes with both \" and ' in between\n",
      "sting using double quotes and \" in between using \\   type = <class 'str'>\n",
      "string using single quotes and ' in between using \\ \n",
      "we can use \n",
      "multiple lines \n",
      "using tripple quotes\n",
      "and \\n\n",
      "\n",
      "the string is =  Hello\n",
      "in the s[2] position is  l\n",
      "in the s[-1] position is  o\n",
      "p is  Hello\n",
      "l is   World\n",
      "s = p+l is  Hello World\n",
      "length of the string Hello World  is  11\n",
      "we can segment the string s as ell\n",
      "we also can segment the string s as llo or He\n"
     ]
    }
   ],
   "source": [
    "t1 = 'string with a single quotes with \" in between'\n",
    "print(t1)\n",
    "p1 = \"string using a double quotes with ' in between\"\n",
    "print(p1)\n",
    "q1 = '''siring using tripple quotes with both \" and ' in between'''\n",
    "print(q1)\n",
    "j1 = \"sting using double quotes and \\\" in between using \\ \"\n",
    "print(j1,\" type =\",type(j1))\n",
    "l1 = 'string using single quotes and \\' in between using \\ '\n",
    "print(l1) \n",
    "y1 = '''we can use \\nmultiple lines \\nusing tripple quotes\\nand \\\\n'''\n",
    "print(y1)\n",
    "\n",
    "s2 = \"Hello\"\n",
    "print(\"\\nthe string is = \",s2)\n",
    "print(\"in the s[2] position is \",s2[2])\n",
    "print(\"in the s[-1] position is \",s2[-1])\n",
    "\n",
    "p2 = \"Hello\"\n",
    "print(\"p is \",p2)\n",
    "l2 =  \" World\"\n",
    "print(\"l is \",l2)\n",
    "q2 = p2 + l2\n",
    "print(\"s = p+l is \",q2)\n",
    "\n",
    "print(\"length of the string\",q2,\" is \",len(q2))\n",
    "\n",
    "print(\"we can segment the string s as\", s2[1:4]) \n",
    "\n",
    "print(\"we also can segment the string s as\",s2[2:],\"or\",s2[:2])\n",
    "\n",
    " "
   ]
  },
  {
   "cell_type": "markdown",
   "metadata": {},
   "source": [
    "INPUT OPERATION"
   ]
  },
  {
   "cell_type": "code",
   "execution_count": 23,
   "metadata": {},
   "outputs": [
    {
     "name": "stdout",
     "output_type": "stream",
     "text": [
      "what is your name ???\n",
      "arun\n",
      "enter your age ??23\n",
      "my name is 'arun'and age is '23'\n",
      "arun23\n",
      "enter two numbers\n",
      "2\n",
      "2\n",
      "the sum of 2 and 2 is = 4\n",
      "enter two numbers\n",
      "3\n",
      "1\n",
      "the sum of the input is 4\n"
     ]
    }
   ],
   "source": [
    "print(\"what is your name ???\")\n",
    "name = input()            #takes raw input as string\n",
    "\n",
    "age = input(\"enter your age ??\")               #takes raw input as string\n",
    "\n",
    "print(\"my name is %rand age is %r\"%(name,age))\n",
    "\n",
    "print(name + age)\n",
    "\n",
    "print(\"enter two numbers\")\n",
    "\n",
    "int_1 = int(input())   # int is used before input  to accept input as int type\n",
    "int_2 = int(input())\n",
    "\n",
    "print(\"the sum of %d and %d is = %d\"%(int_1,int_2,int_1+int_2))\n",
    "\n",
    "print(\"enter two numbers\")\n",
    "\n",
    "int_3 = int(input()) + int(input()) #we can also take inputs like this \n",
    "\n",
    "print(\"the sum of the input is\",int_3)\n"
   ]
  },
  {
   "cell_type": "markdown",
   "metadata": {},
   "source": [
    "FILE OPERATION"
   ]
  },
  {
   "cell_type": "code",
   "execution_count": 27,
   "metadata": {},
   "outputs": [
    {
     "name": "stdout",
     "output_type": "stream",
     "text": [
      "whats the file name > sample_txt1.txt\n",
      "\n",
      "THE CONTENTS OF THE FILE IS\n",
      " new hello\n",
      "jojo\n",
      "koko\n",
      "\n",
      "WE ARE GOING TO ADD THE LINE >fdsf\n",
      "\n",
      "THE CONTENTS OF THE FILE IS\n",
      " new hello\n",
      "jojo\n",
      "kokofdsf\n",
      "\n",
      "WE ARE GOING TO CLEAR THE FILE\n",
      "\n",
      "GIVE NEW LINES FOR THE TXT\n",
      "\n",
      "hello\n",
      "how\n",
      "are\n",
      "\n",
      "THE CONTENTS OF THE FILE IS\n",
      " hello\n",
      "how\n",
      "are\n"
     ]
    }
   ],
   "source": [
    "file = \"whats the file name > \"\n",
    "file_1 = input(file)\n",
    "txt_1 = open(file_1,'r')  # 'r' is the read mode \n",
    "print(\"\\nTHE CONTENTS OF THE FILE IS\\n\",txt_1.read()) # read() func is used for read \n",
    "\n",
    "txt_1 = open(file_1,'a')  # 'a' is for append (add text at the end)\n",
    "line = input(\"\\nWE ARE GOING TO ADD THE LINE >\")\n",
    "txt_1.write(line)  # write() func is used write inputs\n",
    "\n",
    "txt_1.close()\n",
    "\n",
    "txt_2 = open(file_1,'r')\n",
    "print(\"\\nTHE CONTENTS OF THE FILE IS\\n\",txt_2.read())\n",
    "\n",
    "txt_2 = open(file_1,'w')   # 'w' is used for write mode\n",
    "print(\"\\nWE ARE GOING TO CLEAR THE FILE\\n\")\n",
    "txt_2.truncate()        # truncate() is used for deleting the complete file\n",
    "\n",
    "print(\"GIVE NEW LINES FOR THE TXT\\n\")\n",
    "line1 = input()\n",
    "line2 = input()\n",
    "line3 = input()\n",
    "\n",
    "txt_2.write(line1)\n",
    "txt_2.write(\"\\n\")   \n",
    "txt_2.write(line2)\n",
    "txt_2.write(\"\\n\")\n",
    "txt_2.write(line3)\n",
    "\n",
    "txt_2.close()\n",
    "\n",
    "txt_3 = open(file_1,'r')\n",
    "print(\"\\nTHE CONTENTS OF THE FILE IS\\n\",txt_3.read())\n",
    "\n",
    "txt_3.close()"
   ]
  },
  {
   "cell_type": "markdown",
   "metadata": {},
   "source": [
    "FUNCTIONS"
   ]
  },
  {
   "cell_type": "code",
   "execution_count": 29,
   "metadata": {},
   "outputs": [
    {
     "name": "stdout",
     "output_type": "stream",
     "text": [
      "ENTER TWO NUMBERS\n",
      "first no. p  > 43\n",
      "second no. q > 22\n",
      "THE ENTERED NO ARE 43.000000 AND 22.000000\n",
      "SUM : 65.000000\n",
      "DIFFRENCE : 21.000000\n",
      "MULTIPLICATION : 946.000000\n",
      "POW : 863586854220408731228260080296132608.000000\n",
      "\n"
     ]
    }
   ],
   "source": [
    "def sume(x,y): \n",
    "\treturn (x+y)\n",
    "\n",
    "def dif(x,y):\n",
    "\treturn (x-y)\n",
    "\n",
    "def mul(x,y): \n",
    "\treturn (x*y)\n",
    "\n",
    "def powe(x,y): \n",
    "\treturn (x**y)\n",
    "\n",
    "print(\"ENTER TWO NUMBERS\")\n",
    "p = float(input(\"first no. p  > \"))\n",
    "q = float(input(\"second no. q > \"))\n",
    "print(\"THE ENTERED NO ARE %f AND %f\"%(p,q))\n",
    "print(\"SUM : %f\\nDIFFRENCE : %f\\nMULTIPLICATION : %f\\nPOW : %f\\n\"%(sume(p,q),dif(p,q),mul(p,q),powe(p,q)))"
   ]
  },
  {
   "cell_type": "code",
   "execution_count": null,
   "metadata": {},
   "outputs": [],
   "source": []
  }
 ],
 "metadata": {
  "kernelspec": {
   "display_name": "Python 3",
   "language": "python",
   "name": "python3"
  },
  "language_info": {
   "codemirror_mode": {
    "name": "ipython",
    "version": 3
   },
   "file_extension": ".py",
   "mimetype": "text/x-python",
   "name": "python",
   "nbconvert_exporter": "python",
   "pygments_lexer": "ipython3",
   "version": "3.7.4"
  }
 },
 "nbformat": 4,
 "nbformat_minor": 2
}
